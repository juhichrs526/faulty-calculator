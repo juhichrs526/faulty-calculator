{
 "cells": [
  {
   "cell_type": "code",
   "execution_count": 1,
   "id": "f6407177",
   "metadata": {},
   "outputs": [],
   "source": [
    "#design a cal. which will correctly solve all the problem except the following ones:\n",
    "#45*3=555,56+9=77,56/6=4 \n",
    "#your program should take operator and the two number as input from the user and this return the results?\n"
   ]
  },
  {
   "cell_type": "code",
   "execution_count": null,
   "id": "6c6ccd00",
   "metadata": {},
   "outputs": [
    {
     "name": "stdout",
     "output_type": "stream",
     "text": [
      "Enter the first number45\n",
      "Enter the second number3\n"
     ]
    }
   ],
   "source": [
    "a=int(input(\"Enter the first number\"))\n",
    "b=int(input(\"Enter the second number\"))\n",
    "c=input(\"would you like to +,-,*,/\")\n",
    "if a==45 and b==3 and c==\"*\":\n",
    "    print(555)\n",
    "elif a==56 and b==9 and c==\"+\":\n",
    "    print(77)\n",
    "elif a==56 and b==6 and c==\"/\":\n",
    "    print(4)\n",
    "elif c==\"+\":\n",
    "    print(a+b)\n",
    "elif c==\"-\":\n",
    "    print(a-b)\n",
    "elif c==\"*\":\n",
    "    print(a*b)\n",
    "else:\n",
    "    print(a/b)\n",
    " "
   ]
  },
  {
   "cell_type": "code",
   "execution_count": null,
   "id": "bc91b6dc",
   "metadata": {},
   "outputs": [],
   "source": []
  }
 ],
 "metadata": {
  "kernelspec": {
   "display_name": "Python 3",
   "language": "python",
   "name": "python3"
  },
  "language_info": {
   "codemirror_mode": {
    "name": "ipython",
    "version": 3
   },
   "file_extension": ".py",
   "mimetype": "text/x-python",
   "name": "python",
   "nbconvert_exporter": "python",
   "pygments_lexer": "ipython3",
   "version": "3.8.8"
  }
 },
 "nbformat": 4,
 "nbformat_minor": 5
}
